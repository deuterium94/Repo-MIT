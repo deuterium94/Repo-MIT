{
 "cells": [
  {
   "cell_type": "code",
   "execution_count": 3,
   "metadata": {},
   "outputs": [],
   "source": []
  },
  {
   "cell_type": "code",
   "execution_count": 4,
   "metadata": {},
   "outputs": [],
   "source": [
    "import math\n",
    "import random\n",
    "import electric_vehicle\n",
    "import numpy as np\n",
    "from matplotlib import pyplot as plt"
   ]
  },
  {
   "cell_type": "code",
   "execution_count": 5,
   "metadata": {},
   "outputs": [],
   "source": [
    "import math\n",
    "import random\n",
    "import electric_vehicle\n",
    "import numpy as np\n",
    "from matplotlib import pyplot as plt\n",
    "\n",
    "# ----------- Globals & Constants -------------\n",
    "\n",
    "# --- poissonStuff ---\n",
    "avgArrivalRate = 10.0 # cars per minute\n",
    "\n",
    "# sets the arrival rate to a specificed value. Used for mass simulation\n",
    "def setArrivalRate( newArrivalRate ):\n",
    "    global avgArrivalRate\n",
    "    avgArrivalRate = newArrivalRate\n",
    "\n",
    "# --- charging stuff ---\n",
    "# chargeRateMu\n",
    "# chargeRateSigma\n",
    "\n",
    "# chargeNeeded - the charge needed at the end \n",
    "chargeNeededMu = .9 #kwh in $\n",
    "chargeNeededSigma = .1 #kwh in %\n",
    "\n",
    "currentChargeMu = .4 #kwh in %\n",
    "currentChargeSigma = .15 #kwh in %\n",
    "\n",
    "uniformMaxCapacity = 100 #kwh\n",
    "uniformChargeRate = 20 #kw\n",
    "\n",
    "# just some values of common cars.. Volt: 16, Leaf: 24, Model S: 60 in kw\n",
    "# more of some vs others to reprsent realistic distribution\n",
    "batteryCapacities = [ 16, 16, 16, 16, 24, 24, 24, 24, 24, 16, 16, 16, 16, 16, 16, 24, 60 ]\n",
    "\n",
    "# ------------ Poisson Generator ------------\n",
    "\n",
    "# the main function for generating an interval on which to run an algorithmn\n",
    "# will create a 2-level array, the top level being the length of the interval\n",
    "# level 2 contains an array of the vehicle objects that will arrive during that minute\n",
    "\n",
    "def vehicleGen( arrayOfArrivalsPerMin ):\n",
    "    vehicles = []\n",
    "\n",
    "    for minute, arrivalesDuringMin in enumerate( arrayOfArrivalsPerMin ):\n",
    "        if arrivalesDuringMin != 0 :\n",
    "            vehiclesDuringMin = []\n",
    "\n",
    "            for i in range( 0, arrivalesDuringMin ):\n",
    "                depart = minute + random.randint( 60 , 180 )\n",
    "                batteryCapacity = random.choice( batteryCapacities )\n",
    "                chargeNeeded = random.gauss( ( chargeNeededMu * batteryCapacity ) , ( chargeNeededSigma * batteryCapacity ) )\n",
    "                currentCharge = random.gauss( ( currentChargeMu * batteryCapacity ) , ( currentChargeSigma * batteryCapacity ) )\n",
    "                chargeRate = uniformChargeRate\n",
    "                vehiclesDuringMin.append(electric_vehicle.EV( minute, depart, chargeNeeded, currentCharge, chargeRate, batteryCapacity ) )\n",
    "            \n",
    "            vehicles.append( vehiclesDuringMin )\n",
    "\n",
    "        else:\n",
    "            vehicles.append( [] )\n",
    "\n",
    "    return vehicles\n"
   ]
  },
  {
   "cell_type": "code",
   "execution_count": 6,
   "metadata": {},
   "outputs": [],
   "source": [
    "#Generate random arrival rates and simulate EVs through arrival rate\n",
    "l=np.random.poisson(1, size=20)\n",
    "b=(vehicleGen(l))\n"
   ]
  },
  {
   "cell_type": "code",
   "execution_count": 7,
   "metadata": {},
   "outputs": [
    {
     "data": {
      "text/plain": [
       "[<electric_vehicle.EV at 0x23025ee5278>,\n",
       " <electric_vehicle.EV at 0x23025ee51d0>,\n",
       " <electric_vehicle.EV at 0x23025ee5160>,\n",
       " <electric_vehicle.EV at 0x23025ee5240>,\n",
       " <electric_vehicle.EV at 0x23025ee5208>,\n",
       " <electric_vehicle.EV at 0x23025ee5198>,\n",
       " <electric_vehicle.EV at 0x23025ee5320>,\n",
       " <electric_vehicle.EV at 0x23025ee52b0>,\n",
       " <electric_vehicle.EV at 0x23025ee53c8>,\n",
       " <electric_vehicle.EV at 0x23025ee5400>,\n",
       " <electric_vehicle.EV at 0x23025ee5438>,\n",
       " <electric_vehicle.EV at 0x23025ee5470>,\n",
       " <electric_vehicle.EV at 0x23025ee54a8>,\n",
       " <electric_vehicle.EV at 0x23025ee5358>]"
      ]
     },
     "execution_count": 7,
     "metadata": {},
     "output_type": "execute_result"
    }
   ],
   "source": [
    "#remove empty fields\n",
    "list2 = [x for x in b if x]\n",
    "list2[2][0]\n",
    "l=sum(list2,[])\n",
    "l"
   ]
  },
  {
   "cell_type": "code",
   "execution_count": 6,
   "metadata": {},
   "outputs": [
    {
     "data": {
      "text/plain": [
       "11"
      ]
     },
     "execution_count": 6,
     "metadata": {},
     "output_type": "execute_result"
    }
   ],
   "source": [
    "p=[]\n",
    "for i in range (len(list2)):   \n",
    "    p.append((list2[i][0].chargeNeeded))\n",
    "sorted(p)\n",
    "len(p)"
   ]
  },
  {
   "cell_type": "code",
   "execution_count": 7,
   "metadata": {},
   "outputs": [
    {
     "data": {
      "text/plain": [
       "Text(0.5, 1.0, 'Distribution of chargeNeeded values')"
      ]
     },
     "execution_count": 7,
     "metadata": {},
     "output_type": "execute_result"
    },
    {
     "data": {
      "image/png": "[encoded data removed]",
      "text/plain": [
       "<Figure size 432x288 with 1 Axes>"
      ]
     },
     "metadata": {
      "needs_background": "light"
     },
     "output_type": "display_data"
    }
   ],
   "source": [
    "#PoissonGen works!\n",
    "plt.plot(range(0,len(list2)),p)\n",
    "plt.title('Distribution of chargeNeeded values')"
   ]
  },
  {
   "cell_type": "code",
   "execution_count": 8,
   "metadata": {},
   "outputs": [],
   "source": [
    "electricityPrice = .5   # in dollars\n",
    "def calcProfit():\n",
    "    profit = 0\n",
    "    # add up profit from each vehicle\n",
    "    for vehicle in l:\n",
    "        profit += vehicle.timeToCharge * electricityPrice * vehicle.chargeRate / 60.0\n",
    "    return profit"
   ]
  },
  {
   "cell_type": "code",
   "execution_count": 9,
   "metadata": {
    "scrolled": true
   },
   "outputs": [
    {
     "data": {
      "text/plain": [
       "77.83333333333333"
      ]
     },
     "execution_count": 9,
     "metadata": {},
     "output_type": "execute_result"
    }
   ],
   "source": [
    "calcProfit()"
   ]
  },
  {
   "cell_type": "code",
   "execution_count": null,
   "metadata": {},
   "outputs": [],
   "source": []
  },
  {
   "cell_type": "code",
   "execution_count": null,
   "metadata": {},
   "outputs": [],
   "source": []
  }
 ],
 "metadata": {
  "kernelspec": {
   "display_name": "Python 3",
   "language": "python",
   "name": "python3"
  },
  "language_info": {
   "codemirror_mode": {
    "name": "ipython",
    "version": 3
   },
   "file_extension": ".py",
   "mimetype": "text/x-python",
   "name": "python",
   "nbconvert_exporter": "python",
   "pygments_lexer": "ipython3",
   "version": "3.7.3"
  }
 },
 "nbformat": 4,
 "nbformat_minor": 2
}
